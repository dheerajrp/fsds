{
 "cells": [
  {
   "cell_type": "code",
   "execution_count": 1,
   "metadata": {},
   "outputs": [],
   "source": [
    "# imports\n",
    "import calendar\n",
    "import math"
   ]
  },
  {
   "cell_type": "code",
   "execution_count": 2,
   "metadata": {},
   "outputs": [],
   "source": [
    "def put_line(func):\n",
    "    def wrapper(*args, **kwargs):\n",
    "        print(func.__name__.center(110, '*'))\n",
    "        result = func(*args, **kwargs)\n",
    "        return result\n",
    "\n",
    "    return wrapper"
   ]
  },
  {
   "cell_type": "code",
   "execution_count": 3,
   "metadata": {},
   "outputs": [
    {
     "name": "stdout",
     "output_type": "stream",
     "text": [
      "****************************************************miles*****************************************************\n"
     ]
    },
    {
     "data": {
      "text/plain": [
       "1.55"
      ]
     },
     "execution_count": 3,
     "metadata": {},
     "output_type": "execute_result"
    }
   ],
   "source": [
    "# 1. Python program to convert kilometres to miles\n",
    "@put_line\n",
    "def miles(kms):\n",
    "    '''\n",
    "    Returns the mile version of kilometres.\n",
    "    '''\n",
    "    m = round(kms/1.609, 2)\n",
    "    return m\n",
    "\n",
    "miles(kms=2.5)"
   ]
  },
  {
   "cell_type": "code",
   "execution_count": 4,
   "metadata": {},
   "outputs": [
    {
     "name": "stdout",
     "output_type": "stream",
     "text": [
      "**************************************************farenheit***************************************************\n"
     ]
    },
    {
     "data": {
      "text/plain": [
       "58"
      ]
     },
     "execution_count": 4,
     "metadata": {},
     "output_type": "execute_result"
    }
   ],
   "source": [
    "# 2. Python program to convert celsius to farenheit\n",
    "@put_line\n",
    "def farenheit(celsius):\n",
    "    '''\n",
    "    Returns the farenheit version of celsius.\n",
    "    '''\n",
    "    f = (celsius * (9/5)) + 32\n",
    "    return f\n",
    "\n",
    "farenheit(celsius=26)"
   ]
  },
  {
   "cell_type": "code",
   "execution_count": 5,
   "metadata": {},
   "outputs": [
    {
     "name": "stdout",
     "output_type": "stream",
     "text": [
      "*************************************************get_calendar*************************************************\n",
      "   November 2035\n",
      "Mo Tu We Th Fr Sa Su\n",
      "          1  2  3  4\n",
      " 5  6  7  8  9 10 11\n",
      "12 13 14 15 16 17 18\n",
      "19 20 21 22 23 24 25\n",
      "26 27 28 29 30\n",
      "\n"
     ]
    }
   ],
   "source": [
    "# 3. Python program to display the calendar\n",
    "@put_line\n",
    "def get_calendar(year, month):\n",
    "    '''\n",
    "    Returns the valendar of the given year and month.\n",
    "    '''\n",
    "    return calendar.month(int(year), int(month))\n",
    "\n",
    "print(get_calendar(year=2035, month=11))"
   ]
  },
  {
   "cell_type": "code",
   "execution_count": 6,
   "metadata": {},
   "outputs": [],
   "source": [
    "# 4. Python program to solve quadratic equation\n",
    "@put_line\n",
    "def roots(a, b, c):\n",
    "    '''\n",
    "    Returns the roots of quadratic equation.\n",
    "    '''\n",
    "    if a > 0:\n",
    "        discriminant = math.pow(b, 2) - (4*a*c)\n",
    "        if discriminant > 0:\n",
    "            root_pos = (-b + math.sqrt(discriminant)) / (2*a)\n",
    "            root_neg = (-b - math.sqrt(discriminant)) / (2*a)\n",
    "            print('Roots are different and real.')\n",
    "            return {'root1': root_pos,\n",
    "                   'root2': root_neg}\n",
    "        elif discriminant == 0:\n",
    "            print('Roots are equal.')\n",
    "            return (-b) / (2*a)\n",
    "        else:\n",
    "            print('Roots are imaginary.')\n",
    "            print(-b / (2 *a), math.sqrt(abs(discriminant)), '+j')\n",
    "            print(-b / (2 *a), math.sqrt(abs(discriminant)), '-j')\n",
    "    else:\n",
    "        print('a should be nonzero')"
   ]
  },
  {
   "cell_type": "code",
   "execution_count": 7,
   "metadata": {},
   "outputs": [
    {
     "name": "stdout",
     "output_type": "stream",
     "text": [
      "****************************************************roots*****************************************************\n",
      "Roots are different and real.\n"
     ]
    },
    {
     "data": {
      "text/plain": [
       "{'root1': -0.2, 'root2': -1.0}"
      ]
     },
     "execution_count": 7,
     "metadata": {},
     "output_type": "execute_result"
    }
   ],
   "source": [
    "roots(a=5, b=6, c=1)"
   ]
  },
  {
   "cell_type": "code",
   "execution_count": 8,
   "metadata": {},
   "outputs": [
    {
     "name": "stdout",
     "output_type": "stream",
     "text": [
      "****************************************************roots*****************************************************\n",
      "Roots are equal.\n"
     ]
    },
    {
     "data": {
      "text/plain": [
       "0"
      ]
     },
     "execution_count": 8,
     "metadata": {},
     "output_type": "execute_result"
    }
   ],
   "source": [
    "roots(a=1, b=0, c=0)"
   ]
  },
  {
   "cell_type": "code",
   "execution_count": 9,
   "metadata": {},
   "outputs": [
    {
     "name": "stdout",
     "output_type": "stream",
     "text": [
      "****************************************************roots*****************************************************\n",
      "Roots are imaginary.\n",
      "(-1, 4.0, '+j')\n",
      "(-1, 4.0, '-j')\n"
     ]
    }
   ],
   "source": [
    "roots(a=5, b=2, c=1)"
   ]
  },
  {
   "cell_type": "code",
   "execution_count": 10,
   "metadata": {},
   "outputs": [
    {
     "name": "stdout",
     "output_type": "stream",
     "text": [
      "****************************************************roots*****************************************************\n",
      "a should be nonzero\n"
     ]
    }
   ],
   "source": [
    "roots(a=0, b=1, c=1)"
   ]
  },
  {
   "cell_type": "code",
   "execution_count": 11,
   "metadata": {},
   "outputs": [
    {
     "name": "stdout",
     "output_type": "stream",
     "text": [
      "*****************************************************swap*****************************************************\n",
      "('Before swapping: a:', 1, 'b:', 2)\n",
      "('After swapping: a:', 2, 'b:', 1)\n"
     ]
    }
   ],
   "source": [
    "# 5. Python program to swap 2 variables without temp\n",
    "@put_line\n",
    "def swap(a, b):\n",
    "    print('Before swapping: a:', a, 'b:',b)\n",
    "    a, b = b, a\n",
    "    print('After swapping: a:', a, 'b:',b)\n",
    "    return\n",
    "\n",
    "swap(a=1, b=2)"
   ]
  },
  {
   "cell_type": "code",
   "execution_count": null,
   "metadata": {},
   "outputs": [],
   "source": []
  }
 ],
 "metadata": {
  "kernelspec": {
   "display_name": "Python 3",
   "language": "python",
   "name": "python3"
  },
  "language_info": {
   "codemirror_mode": {
    "name": "ipython",
    "version": 2
   },
   "file_extension": ".py",
   "mimetype": "text/x-python",
   "name": "python",
   "nbconvert_exporter": "python",
   "pygments_lexer": "ipython2",
   "version": "2.7.17"
  }
 },
 "nbformat": 4,
 "nbformat_minor": 5
}
