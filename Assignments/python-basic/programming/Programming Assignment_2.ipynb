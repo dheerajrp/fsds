{
 "cells": [
  {
   "cell_type": "code",
   "execution_count": 68,
   "id": "cb4c5c8c",
   "metadata": {},
   "outputs": [],
   "source": [
    "# imports\n",
    "from typing import Union\n",
    "import calendar"
   ]
  },
  {
   "cell_type": "code",
   "execution_count": 49,
   "id": "0e1934aa",
   "metadata": {},
   "outputs": [],
   "source": [
    "def put_line(func):\n",
    "    def wrapper(*args, **kwargs):\n",
    "        print('ANSWER'.center(120, '*'))\n",
    "        result = func(*args, **kwargs)\n",
    "        return result\n",
    "\n",
    "    return wrapper"
   ]
  },
  {
   "cell_type": "code",
   "execution_count": 63,
   "id": "5cdc50b9",
   "metadata": {},
   "outputs": [
    {
     "name": "stdout",
     "output_type": "stream",
     "text": [
      "*********************************************************ANSWER*********************************************************\n"
     ]
    },
    {
     "data": {
      "text/plain": [
       "'2.5 kms is equal to 1.55 miles.'"
      ]
     },
     "execution_count": 63,
     "metadata": {},
     "output_type": "execute_result"
    }
   ],
   "source": [
    "# 1. Python program to convert kilometres to miles\n",
    "@put_line\n",
    "def miles(kms: Union[int, float]):\n",
    "    '''\n",
    "    Returns the mile version of kilometres.\n",
    "    '''\n",
    "    m = round(kms/1.609, 2)\n",
    "    return f'{kms} kms is equal to {m} miles.'\n",
    "miles(kms=2.5)"
   ]
  },
  {
   "cell_type": "code",
   "execution_count": 64,
   "id": "b0091124",
   "metadata": {},
   "outputs": [
    {
     "name": "stdout",
     "output_type": "stream",
     "text": [
      "*********************************************************ANSWER*********************************************************\n"
     ]
    },
    {
     "data": {
      "text/plain": [
       "'26 degree celsius is equal to 78.8 degree farenfeit.'"
      ]
     },
     "execution_count": 64,
     "metadata": {},
     "output_type": "execute_result"
    }
   ],
   "source": [
    "# 2. Python program to convert celsius to farenheit\n",
    "@put_line\n",
    "def farenheit(celsius: Union[int, float]):\n",
    "    '''\n",
    "    Returns the farenheit version of celsius.\n",
    "    '''\n",
    "    f = (celsius * (9/5)) + 32\n",
    "    return f'{celsius} degree celsius is equal to {round(f, 3)} degree farenfeit.'\n",
    "\n",
    "farenheit(celsius=26)"
   ]
  },
  {
   "cell_type": "code",
   "execution_count": 67,
   "id": "ebfc5d17",
   "metadata": {},
   "outputs": [
    {
     "name": "stdout",
     "output_type": "stream",
     "text": [
      "*********************************************************ANSWER*********************************************************\n",
      "   November 2035\n",
      "Mo Tu We Th Fr Sa Su\n",
      "          1  2  3  4\n",
      " 5  6  7  8  9 10 11\n",
      "12 13 14 15 16 17 18\n",
      "19 20 21 22 23 24 25\n",
      "26 27 28 29 30\n",
      "\n"
     ]
    }
   ],
   "source": [
    "# 3. Python program to display the calendar\n",
    "@put_line\n",
    "def get_calendar(year: int, month: int):\n",
    "    '''\n",
    "    Returns the valendar of the given year and month.\n",
    "    '''\n",
    "    return calendar.month(int(year), int(month))\n",
    "\n",
    "print(get_calendar(year=2035, month=11))"
   ]
  },
  {
   "cell_type": "code",
   "execution_count": 135,
   "id": "ad64bb82",
   "metadata": {},
   "outputs": [],
   "source": [
    "# 4. Python program to solve quadratic equation\n",
    "@put_line\n",
    "def roots(a: int, b: int, c: int):\n",
    "    if a > 0:\n",
    "        discriminant = b**2 - (4*a*c)\n",
    "        if discriminant > 0:\n",
    "            root_pos = (-b + (discriminant**.5)) / (2*a)\n",
    "            root_neg = (-b - (discriminant**.5)) / (2*a)\n",
    "            print('2 real roots')\n",
    "            return {'Positive root': root_pos,\n",
    "                   'Negative root': root_neg}\n",
    "        elif discriminant == 0:\n",
    "            print('real and equal roots')\n",
    "            return (-b) / (2*a)\n",
    "    else:\n",
    "        print('a should be greater than 0')\n",
    "    "
   ]
  },
  {
   "cell_type": "code",
   "execution_count": 136,
   "id": "3d9d0991",
   "metadata": {},
   "outputs": [
    {
     "name": "stdout",
     "output_type": "stream",
     "text": [
      "7.0\n"
     ]
    }
   ],
   "source": [
    "print(49**(.5))"
   ]
  },
  {
   "cell_type": "code",
   "execution_count": 137,
   "id": "35d835e4",
   "metadata": {},
   "outputs": [
    {
     "name": "stdout",
     "output_type": "stream",
     "text": [
      "*********************************************************ANSWER*********************************************************\n",
      "a should be greater than 0\n"
     ]
    }
   ],
   "source": [
    "roots(0, 0, 0)"
   ]
  },
  {
   "cell_type": "code",
   "execution_count": null,
   "id": "e68d31b0",
   "metadata": {},
   "outputs": [],
   "source": []
  }
 ],
 "metadata": {
  "kernelspec": {
   "display_name": "Python 3",
   "language": "python",
   "name": "python3"
  },
  "language_info": {
   "codemirror_mode": {
    "name": "ipython",
    "version": 3
   },
   "file_extension": ".py",
   "mimetype": "text/x-python",
   "name": "python",
   "nbconvert_exporter": "python",
   "pygments_lexer": "ipython3",
   "version": "3.8.8"
  }
 },
 "nbformat": 4,
 "nbformat_minor": 5
}
