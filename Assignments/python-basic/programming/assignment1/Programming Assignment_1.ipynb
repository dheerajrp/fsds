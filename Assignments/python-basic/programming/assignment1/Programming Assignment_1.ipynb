{
 "cells": [
  {
   "cell_type": "code",
   "execution_count": 1,
   "id": "37ae2ea4",
   "metadata": {},
   "outputs": [
    {
     "name": "stdout",
     "output_type": "stream",
     "text": [
      "Hello Python\n"
     ]
    }
   ],
   "source": [
    "#1. Write a Python program to print \"Hello Python\"?\n",
    "def hello():\n",
    "    return 'Hello Python'\n",
    "\n",
    "\n",
    "print(hello())"
   ]
  },
  {
   "cell_type": "code",
   "execution_count": 2,
   "id": "b13b27af",
   "metadata": {},
   "outputs": [
    {
     "name": "stdout",
     "output_type": "stream",
     "text": [
      "addition: 13\n",
      "division: 2.0\n",
      "division by zero\n"
     ]
    }
   ],
   "source": [
    "#2. Write a Python program to do arithmetical operations addition and\n",
    "# division.?\n",
    "def add(a, b):\n",
    "    a, b = int(a), int(b)\n",
    "    return a + b\n",
    "\n",
    "\n",
    "def divide(a, b):\n",
    "    a, b = int(a), int(b)\n",
    "\n",
    "    try:\n",
    "        return a / b\n",
    "    except ZeroDivisionError as error:\n",
    "        print(error)\n",
    "\n",
    "\n",
    "print(f'addition: {add(a=5, b=8)}')\n",
    "print(f'division: {divide(a=4, b=2)}')\n",
    "divide(a=5, b=0)"
   ]
  },
  {
   "cell_type": "code",
   "execution_count": 3,
   "id": "38cd64ac",
   "metadata": {},
   "outputs": [
    {
     "name": "stdout",
     "output_type": "stream",
     "text": [
      "The area of triangle with base 8 metres and height 4 metres is 16.0 m2\n"
     ]
    }
   ],
   "source": [
    "#3. Write a Python program to find the area of a triangle?\n",
    "def area_of_triangle(base, height):\n",
    "    return f'The area of triangle with base {base} metres and height ' \\\n",
    "           f'{height} metres is {0.5 * int(base) * int(height)} m2'\n",
    "\n",
    "\n",
    "print(area_of_triangle(base=8, height=4))"
   ]
  },
  {
   "cell_type": "code",
   "execution_count": 4,
   "id": "cbb46069",
   "metadata": {},
   "outputs": [
    {
     "name": "stdout",
     "output_type": "stream",
     "text": [
      "original variables: a: 1, b: 2\n",
      "swapped variables: a: 2, b: 1\n"
     ]
    }
   ],
   "source": [
    "#4. Write a Python program to swap two variables?\n",
    "\n",
    "def swap(a, b):\n",
    "    a, b = int(a), int(b)\n",
    "    print(f'original variables: a: {a}, b: {b}')\n",
    "    tmp = a\n",
    "    a = b\n",
    "    b = tmp\n",
    "    return f'swapped variables: a: {a}, b: {b}'\n",
    "\n",
    "print(swap(a=1, b=2))"
   ]
  },
  {
   "cell_type": "code",
   "execution_count": 5,
   "id": "5bd9480e",
   "metadata": {},
   "outputs": [
    {
     "name": "stdout",
     "output_type": "stream",
     "text": [
      "Generated random number: 0.2955007069856407\n"
     ]
    }
   ],
   "source": [
    "#5. Write a Python program to generate a random number?\n",
    "import random\n",
    "def generate_random_number():\n",
    "    return f'Generated random number: {random.random()}'\n",
    "print(generate_random_number())"
   ]
  },
  {
   "cell_type": "code",
   "execution_count": null,
   "id": "4580d317",
   "metadata": {},
   "outputs": [],
   "source": []
  }
 ],
 "metadata": {
  "kernelspec": {
   "display_name": "Python 3",
   "language": "python",
   "name": "python3"
  },
  "language_info": {
   "codemirror_mode": {
    "name": "ipython",
    "version": 3
   },
   "file_extension": ".py",
   "mimetype": "text/x-python",
   "name": "python",
   "nbconvert_exporter": "python",
   "pygments_lexer": "ipython3",
   "version": "3.8.8"
  }
 },
 "nbformat": 4,
 "nbformat_minor": 5
}
